{
 "cells": [
  {
   "cell_type": "code",
   "execution_count": 18,
   "metadata": {},
   "outputs": [],
   "source": [
    "from qiskit import QuantumCircuit\n",
    "import numpy as np"
   ]
  },
  {
   "cell_type": "code",
   "execution_count": 19,
   "metadata": {},
   "outputs": [],
   "source": [
    "def dj_function(num_qubits, type, number):\n",
    "    \"\"\"\n",
    "    Create a random Deutsch-Jozsa function. num_qubits is number of qubits, type is 'balanced' or 'constant,' and number is output value for constant function.\n",
    "    \"\"\"\n",
    "\n",
    "    qc = QuantumCircuit(num_qubits + 1) # Create quantum circuit with one additional quantum register for minus state.\n",
    "\n",
    "    if (num_qubits > 15 or num_qubits < 0):\n",
    "        raise Exception(\"Input Error: num_qubits should be between 0 and 15, inclusive\") # Handling Exception: num_qubits\n",
    "\n",
    "    if (type == \"constant\"):\n",
    "        if number != 0 and number != 1: raise Exception(\"Input Error: Please specify number as either 0 or 1\") # Handling Exception: number\n",
    "        # If constant function value is given as 1\n",
    "        if (number == 1):\n",
    "            qc.x(num_qubits)\n",
    "        return qc\n",
    "    \n",
    "    elif (type == \"balanced\"):\n",
    "        # Chooses half the possible input states to convert\n",
    "        on_states = np.random.choice(\n",
    "            range(2**num_qubits),  # numbers to sample from\n",
    "            2**num_qubits // 2,  # number of samples\n",
    "            replace=False,  # makes sure states are only sampled once\n",
    "        )\n",
    "        \n",
    "        # Function to add x gates to bitstring bits that need to be flipped.\n",
    "        def add_x(qc, bit_string):\n",
    "            for qubit, bit in enumerate(reversed(bit_string)):\n",
    "                if bit == \"1\":\n",
    "                    qc.x(qubit)\n",
    "            return qc\n",
    "        \n",
    "        # For half the states chosen in on_states, adds the xor operation.\n",
    "        for state in on_states:\n",
    "            # print(state)\n",
    "            qc.barrier()  # Barriers are added to help visualize how the functions are created. They can safely be removed.\n",
    "            qc = add_x(qc, f\"{state:0b}\") # Flips bits for xor consideration.\n",
    "            qc.mcx(list(range(num_qubits)), num_qubits) # Applies xor.\n",
    "            qc = add_x(qc, f\"{state:0b}\") # Reverses bit flip for next round of xor consideration.\n",
    "        qc.barrier()\n",
    "\n",
    "        return qc\n",
    "    \n",
    "    else: raise Exception(\"Input Error: Please specify type as either 'constant' or 'balanced'\") # Handling Exception: type"
   ]
  },
  {
   "cell_type": "code",
   "execution_count": 20,
   "metadata": {},
   "outputs": [
    {
     "data": {
      "text/html": [
       "<pre style=\"word-wrap: normal;white-space: pre;background: #fff0;line-height: 1.1;font-family: &quot;Courier New&quot;,Courier,monospace\">      ░ ┌───┐     ┌───┐ ░                 ░ \n",
       "q_0: ─░─┤ X ├──■──┤ X ├─░────────■────────░─\n",
       "      ░ ├───┤  │  ├───┤ ░ ┌───┐  │  ┌───┐ ░ \n",
       "q_1: ─░─┤ X ├──■──┤ X ├─░─┤ X ├──■──┤ X ├─░─\n",
       "      ░ └───┘┌─┴─┐└───┘ ░ └───┘┌─┴─┐└───┘ ░ \n",
       "q_2: ─░──────┤ X ├──────░──────┤ X ├──────░─\n",
       "      ░      └───┘      ░      └───┘      ░ </pre>"
      ],
      "text/plain": [
       "      ░ ┌───┐     ┌───┐ ░                 ░ \n",
       "q_0: ─░─┤ X ├──■──┤ X ├─░────────■────────░─\n",
       "      ░ ├───┤  │  ├───┤ ░ ┌───┐  │  ┌───┐ ░ \n",
       "q_1: ─░─┤ X ├──■──┤ X ├─░─┤ X ├──■──┤ X ├─░─\n",
       "      ░ └───┘┌─┴─┐└───┘ ░ └───┘┌─┴─┐└───┘ ░ \n",
       "q_2: ─░──────┤ X ├──────░──────┤ X ├──────░─\n",
       "      ░      └───┘      ░      └───┘      ░ "
      ]
     },
     "metadata": {},
     "output_type": "display_data"
    }
   ],
   "source": [
    "display(dj_function(2, 'balanced', 1).draw())"
   ]
  },
  {
   "cell_type": "code",
   "execution_count": 21,
   "metadata": {},
   "outputs": [],
   "source": [
    "def compile_circuit(function: QuantumCircuit):\n",
    "    \"\"\"\n",
    "    Compiles a circuit for use in the Deutsch-Jozsa algorithm.\n",
    "    \"\"\"\n",
    "    n = function.num_qubits - 1\n",
    "    qc = QuantumCircuit(n + 1, n)\n",
    "    qc.x(n)\n",
    "    qc.h(n)\n",
    "    qc.barrier()\n",
    "    qc.h(range(n))\n",
    "    qc.compose(function, inplace=True)\n",
    "    qc.h(range(n))\n",
    "    qc.measure(range(n), range(n))\n",
    "    display(qc.draw())\n",
    "    return qc"
   ]
  },
  {
   "cell_type": "code",
   "execution_count": 22,
   "metadata": {},
   "outputs": [],
   "source": [
    "# Code to run algorithm\n",
    "from qiskit_aer import AerSimulator\n",
    "def dj_algorithm(function: QuantumCircuit):\n",
    "    \"\"\"\n",
    "    Determine if a Deutsch-Jozsa function is constant or balanced.\n",
    "    \"\"\"\n",
    "    qc = compile_circuit(function)\n",
    "\n",
    "    result = AerSimulator().run(qc, shots=1, memory=True).result()\n",
    "    measurements = result.get_memory()\n",
    "    if \"1\" in measurements[0]:\n",
    "        return \"balanced\"\n",
    "    return \"constant\""
   ]
  },
  {
   "cell_type": "code",
   "execution_count": 24,
   "metadata": {},
   "outputs": [
    {
     "data": {
      "text/html": [
       "<pre style=\"word-wrap: normal;white-space: pre;background: #fff0;line-height: 1.1;font-family: &quot;Courier New&quot;,Courier,monospace\">                ░ ┌───┐ ░ ┌───┐     ┌───┐ ░       ░                 ░ ┌───┐»\n",
       "q_0: ───────────░─┤ H ├─░─┤ X ├──■──┤ X ├─░───■───░────────■────────░─┤ X ├»\n",
       "                ░ ├───┤ ░ ├───┤  │  ├───┤ ░   │   ░        │        ░ └───┘»\n",
       "q_1: ───────────░─┤ H ├─░─┤ X ├──■──┤ X ├─░───■───░────────■────────░──────»\n",
       "                ░ ├───┤ ░ └───┘  │  └───┘ ░   │   ░        │        ░ ┌───┐»\n",
       "q_2: ───────────░─┤ H ├─░────────■────────░───■───░────────■────────░─┤ X ├»\n",
       "                ░ ├───┤ ░ ┌───┐  │  ┌───┐ ░   │   ░ ┌───┐  │  ┌───┐ ░ ├───┤»\n",
       "q_3: ───────────░─┤ H ├─░─┤ X ├──■──┤ X ├─░───■───░─┤ X ├──■──┤ X ├─░─┤ X ├»\n",
       "     ┌───┐┌───┐ ░ └───┘ ░ └───┘┌─┴─┐└───┘ ░ ┌─┴─┐ ░ └───┘┌─┴─┐└───┘ ░ └───┘»\n",
       "q_4: ┤ X ├┤ H ├─░───────░──────┤ X ├──────░─┤ X ├─░──────┤ X ├──────░──────»\n",
       "     └───┘└───┘ ░       ░      └───┘      ░ └───┘ ░      └───┘      ░      »\n",
       "c: 4/══════════════════════════════════════════════════════════════════════»\n",
       "                                                                           »\n",
       "«          ┌───┐ ░                 ░ ┌───┐     ┌───┐ ░                 ░ ┌───┐»\n",
       "«q_0: ──■──┤ X ├─░────────■────────░─┤ X ├──■──┤ X ├─░────────■────────░─┤ X ├»\n",
       "«       │  └───┘ ░ ┌───┐  │  ┌───┐ ░ └───┘  │  └───┘ ░        │        ░ ├───┤»\n",
       "«q_1: ──■────────░─┤ X ├──■──┤ X ├─░────────■────────░────────■────────░─┤ X ├»\n",
       "«       │  ┌───┐ ░ └───┘  │  └───┘ ░ ┌───┐  │  ┌───┐ ░ ┌───┐  │  ┌───┐ ░ └───┘»\n",
       "«q_2: ──■──┤ X ├─░────────■────────░─┤ X ├──■──┤ X ├─░─┤ X ├──■──┤ X ├─░──────»\n",
       "«       │  ├───┤ ░ ┌───┐  │  ┌───┐ ░ └───┘  │  └───┘ ░ ├───┤  │  ├───┤ ░      »\n",
       "«q_3: ──■──┤ X ├─░─┤ X ├──■──┤ X ├─░────────■────────░─┤ X ├──■──┤ X ├─░──────»\n",
       "«     ┌─┴─┐└───┘ ░ └───┘┌─┴─┐└───┘ ░      ┌─┴─┐      ░ └───┘┌─┴─┐└───┘ ░      »\n",
       "«q_4: ┤ X ├──────░──────┤ X ├──────░──────┤ X ├──────░──────┤ X ├──────░──────»\n",
       "«     └───┘      ░      └───┘      ░      └───┘      ░      └───┘      ░      »\n",
       "«c: 4/════════════════════════════════════════════════════════════════════════»\n",
       "«                                                                             »\n",
       "«          ┌───┐ ░ ┌───┐┌─┐         \n",
       "«q_0: ──■──┤ X ├─░─┤ H ├┤M├─────────\n",
       "«       │  ├───┤ ░ ├───┤└╥┘┌─┐      \n",
       "«q_1: ──■──┤ X ├─░─┤ H ├─╫─┤M├──────\n",
       "«       │  └───┘ ░ ├───┤ ║ └╥┘┌─┐   \n",
       "«q_2: ──■────────░─┤ H ├─╫──╫─┤M├───\n",
       "«       │        ░ ├───┤ ║  ║ └╥┘┌─┐\n",
       "«q_3: ──■────────░─┤ H ├─╫──╫──╫─┤M├\n",
       "«     ┌─┴─┐      ░ └───┘ ║  ║  ║ └╥┘\n",
       "«q_4: ┤ X ├──────░───────╫──╫──╫──╫─\n",
       "«     └───┘      ░       ║  ║  ║  ║ \n",
       "«c: 4/═══════════════════╩══╩══╩══╩═\n",
       "«                        0  1  2  3 </pre>"
      ],
      "text/plain": [
       "                ░ ┌───┐ ░ ┌───┐     ┌───┐ ░       ░                 ░ ┌───┐»\n",
       "q_0: ───────────░─┤ H ├─░─┤ X ├──■──┤ X ├─░───■───░────────■────────░─┤ X ├»\n",
       "                ░ ├───┤ ░ ├───┤  │  ├───┤ ░   │   ░        │        ░ └───┘»\n",
       "q_1: ───────────░─┤ H ├─░─┤ X ├──■──┤ X ├─░───■───░────────■────────░──────»\n",
       "                ░ ├───┤ ░ └───┘  │  └───┘ ░   │   ░        │        ░ ┌───┐»\n",
       "q_2: ───────────░─┤ H ├─░────────■────────░───■───░────────■────────░─┤ X ├»\n",
       "                ░ ├───┤ ░ ┌───┐  │  ┌───┐ ░   │   ░ ┌───┐  │  ┌───┐ ░ ├───┤»\n",
       "q_3: ───────────░─┤ H ├─░─┤ X ├──■──┤ X ├─░───■───░─┤ X ├──■──┤ X ├─░─┤ X ├»\n",
       "     ┌───┐┌───┐ ░ └───┘ ░ └───┘┌─┴─┐└───┘ ░ ┌─┴─┐ ░ └───┘┌─┴─┐└───┘ ░ └───┘»\n",
       "q_4: ┤ X ├┤ H ├─░───────░──────┤ X ├──────░─┤ X ├─░──────┤ X ├──────░──────»\n",
       "     └───┘└───┘ ░       ░      └───┘      ░ └───┘ ░      └───┘      ░      »\n",
       "c: 4/══════════════════════════════════════════════════════════════════════»\n",
       "                                                                           »\n",
       "«          ┌───┐ ░                 ░ ┌───┐     ┌───┐ ░                 ░ ┌───┐»\n",
       "«q_0: ──■──┤ X ├─░────────■────────░─┤ X ├──■──┤ X ├─░────────■────────░─┤ X ├»\n",
       "«       │  └───┘ ░ ┌───┐  │  ┌───┐ ░ └───┘  │  └───┘ ░        │        ░ ├───┤»\n",
       "«q_1: ──■────────░─┤ X ├──■──┤ X ├─░────────■────────░────────■────────░─┤ X ├»\n",
       "«       │  ┌───┐ ░ └───┘  │  └───┘ ░ ┌───┐  │  ┌───┐ ░ ┌───┐  │  ┌───┐ ░ └───┘»\n",
       "«q_2: ──■──┤ X ├─░────────■────────░─┤ X ├──■──┤ X ├─░─┤ X ├──■──┤ X ├─░──────»\n",
       "«       │  ├───┤ ░ ┌───┐  │  ┌───┐ ░ └───┘  │  └───┘ ░ ├───┤  │  ├───┤ ░      »\n",
       "«q_3: ──■──┤ X ├─░─┤ X ├──■──┤ X ├─░────────■────────░─┤ X ├──■──┤ X ├─░──────»\n",
       "«     ┌─┴─┐└───┘ ░ └───┘┌─┴─┐└───┘ ░      ┌─┴─┐      ░ └───┘┌─┴─┐└───┘ ░      »\n",
       "«q_4: ┤ X ├──────░──────┤ X ├──────░──────┤ X ├──────░──────┤ X ├──────░──────»\n",
       "«     └───┘      ░      └───┘      ░      └───┘      ░      └───┘      ░      »\n",
       "«c: 4/════════════════════════════════════════════════════════════════════════»\n",
       "«                                                                             »\n",
       "«          ┌───┐ ░ ┌───┐┌─┐         \n",
       "«q_0: ──■──┤ X ├─░─┤ H ├┤M├─────────\n",
       "«       │  ├───┤ ░ ├───┤└╥┘┌─┐      \n",
       "«q_1: ──■──┤ X ├─░─┤ H ├─╫─┤M├──────\n",
       "«       │  └───┘ ░ ├───┤ ║ └╥┘┌─┐   \n",
       "«q_2: ──■────────░─┤ H ├─╫──╫─┤M├───\n",
       "«       │        ░ ├───┤ ║  ║ └╥┘┌─┐\n",
       "«q_3: ──■────────░─┤ H ├─╫──╫──╫─┤M├\n",
       "«     ┌─┴─┐      ░ └───┘ ║  ║  ║ └╥┘\n",
       "«q_4: ┤ X ├──────░───────╫──╫──╫──╫─\n",
       "«     └───┘      ░       ║  ║  ║  ║ \n",
       "«c: 4/═══════════════════╩══╩══╩══╩═\n",
       "«                        0  1  2  3 "
      ]
     },
     "metadata": {},
     "output_type": "display_data"
    },
    {
     "data": {
      "text/plain": [
       "'balanced'"
      ]
     },
     "metadata": {},
     "output_type": "display_data"
    }
   ],
   "source": [
    "# Defined Function\n",
    "f = dj_function(4, \"balanced\", 0)\n",
    "# Determine using Algorithm\n",
    "display(dj_algorithm(f))"
   ]
  }
 ],
 "metadata": {
  "kernelspec": {
   "display_name": "qiskit",
   "language": "python",
   "name": "python3"
  },
  "language_info": {
   "codemirror_mode": {
    "name": "ipython",
    "version": 3
   },
   "file_extension": ".py",
   "mimetype": "text/x-python",
   "name": "python",
   "nbconvert_exporter": "python",
   "pygments_lexer": "ipython3",
   "version": "3.10.14"
  }
 },
 "nbformat": 4,
 "nbformat_minor": 2
}
